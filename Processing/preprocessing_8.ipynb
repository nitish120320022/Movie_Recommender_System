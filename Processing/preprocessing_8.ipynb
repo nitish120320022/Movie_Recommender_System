{
 "cells": [
  {
   "cell_type": "code",
   "execution_count": 1,
   "id": "312095d7-b0d0-4535-ab70-32a75e7b8991",
   "metadata": {},
   "outputs": [],
   "source": [
    "import pandas as pd\n",
    "import numpy as np\n",
    "import requests\n",
    "import bs4 as bs\n",
    "import urllib.request"
   ]
  },
  {
   "cell_type": "code",
   "execution_count": 2,
   "id": "b576da28-eb8c-4186-bb84-33a0cd869074",
   "metadata": {},
   "outputs": [],
   "source": [
    "## Extracting features of 2017 movies from Wikipedia"
   ]
  },
  {
   "cell_type": "code",
   "execution_count": 3,
   "id": "f83a3fcc-3f15-4196-be92-313bc00c432f",
   "metadata": {},
   "outputs": [],
   "source": [
    "link = \"https://en.wikipedia.org/wiki/List_of_American_films_of_2017\""
   ]
  },
  {
   "cell_type": "code",
   "execution_count": 4,
   "id": "044247b3-ca1d-4b99-9134-80297fdc0138",
   "metadata": {},
   "outputs": [],
   "source": [
    "source = urllib.request.urlopen(link).read()\n",
    "soup = bs.BeautifulSoup(source,'lxml')"
   ]
  },
  {
   "cell_type": "code",
   "execution_count": 5,
   "id": "b91c179d-15bf-4687-8e97-ac3a05fb7d94",
   "metadata": {},
   "outputs": [],
   "source": [
    "tables = soup.find_all('table',class_='wikitable sortable')"
   ]
  },
  {
   "cell_type": "code",
   "execution_count": 6,
   "id": "58421377-2a1f-4168-9160-7366c2966899",
   "metadata": {},
   "outputs": [
    {
     "data": {
      "text/plain": [
       "4"
      ]
     },
     "execution_count": 6,
     "metadata": {},
     "output_type": "execute_result"
    }
   ],
   "source": [
    "len(tables)"
   ]
  },
  {
   "cell_type": "code",
   "execution_count": 7,
   "id": "1fc1beed-2185-4c9d-b04e-ffee882c48a0",
   "metadata": {},
   "outputs": [
    {
     "data": {
      "text/plain": [
       "bs4.element.Tag"
      ]
     },
     "execution_count": 7,
     "metadata": {},
     "output_type": "execute_result"
    }
   ],
   "source": [
    "type(tables[0])"
   ]
  },
  {
   "cell_type": "code",
   "execution_count": 8,
   "id": "ce168329-da7d-4706-9318-c873dfde7cf7",
   "metadata": {},
   "outputs": [],
   "source": [
    "df1 = pd.read_html(str(tables[0]))[0]\n",
    "df2 = pd.read_html(str(tables[1]))[0]\n",
    "df3 = pd.read_html(str(tables[2]))[0]\n",
    "df4 = pd.read_html(str(tables[3]).replace(\"'1\\\"\\'\",'\"1\"'))[0] # avoided \"ValueError: invalid literal for int() with base 10: '1\"'"
   ]
  },
  {
   "cell_type": "code",
   "execution_count": 9,
   "id": "11371f9c-c451-4168-aad9-6f5b8eeaecce",
   "metadata": {},
   "outputs": [
    {
     "name": "stderr",
     "output_type": "stream",
     "text": [
      "C:\\Users\\Hp\\AppData\\Local\\Temp\\ipykernel_15460\\1752420719.py:1: FutureWarning: The frame.append method is deprecated and will be removed from pandas in a future version. Use pandas.concat instead.\n",
      "  df = df1.append(df2.append(df3.append(df4,ignore_index=True),ignore_index=True),ignore_index=True)\n"
     ]
    }
   ],
   "source": [
    "df = df1.append(df2.append(df3.append(df4,ignore_index=True),ignore_index=True),ignore_index=True)"
   ]
  },
  {
   "cell_type": "code",
   "execution_count": 10,
   "id": "267478ac-d57d-4371-9f95-458fcaccb4a6",
   "metadata": {},
   "outputs": [
    {
     "data": {
      "text/html": [
       "<div>\n",
       "<style scoped>\n",
       "    .dataframe tbody tr th:only-of-type {\n",
       "        vertical-align: middle;\n",
       "    }\n",
       "\n",
       "    .dataframe tbody tr th {\n",
       "        vertical-align: top;\n",
       "    }\n",
       "\n",
       "    .dataframe thead th {\n",
       "        text-align: right;\n",
       "    }\n",
       "</style>\n",
       "<table border=\"1\" class=\"dataframe\">\n",
       "  <thead>\n",
       "    <tr style=\"text-align: right;\">\n",
       "      <th></th>\n",
       "      <th>Opening</th>\n",
       "      <th>Opening.1</th>\n",
       "      <th>Title</th>\n",
       "      <th>Production company</th>\n",
       "      <th>Cast and crew</th>\n",
       "      <th>.mw-parser-output .tooltip-dotted{border-bottom:1px dotted;cursor:help}Ref.</th>\n",
       "      <th>Ref.</th>\n",
       "    </tr>\n",
       "  </thead>\n",
       "  <tbody>\n",
       "    <tr>\n",
       "      <th>0</th>\n",
       "      <td>J A N U A R Y</td>\n",
       "      <td>6</td>\n",
       "      <td>Underworld: Blood Wars</td>\n",
       "      <td>Screen Gems / Lakeshore Entertainment / Sketch...</td>\n",
       "      <td>Anna Foerster (director); Cory Goodman (screen...</td>\n",
       "      <td>[2][3]</td>\n",
       "      <td>NaN</td>\n",
       "    </tr>\n",
       "    <tr>\n",
       "      <th>1</th>\n",
       "      <td>J A N U A R Y</td>\n",
       "      <td>6</td>\n",
       "      <td>Arsenal</td>\n",
       "      <td>Lionsgate Premiere</td>\n",
       "      <td>Steven C. Miller (director); Jason Mosberg (sc...</td>\n",
       "      <td>[4][5]</td>\n",
       "      <td>NaN</td>\n",
       "    </tr>\n",
       "    <tr>\n",
       "      <th>2</th>\n",
       "      <td>J A N U A R Y</td>\n",
       "      <td>6</td>\n",
       "      <td>Between Us</td>\n",
       "      <td>IFC Films / Nora Films</td>\n",
       "      <td>Rafael Palacio Illingworth (director/screenpla...</td>\n",
       "      <td>[6]</td>\n",
       "      <td>NaN</td>\n",
       "    </tr>\n",
       "    <tr>\n",
       "      <th>3</th>\n",
       "      <td>J A N U A R Y</td>\n",
       "      <td>13</td>\n",
       "      <td>Monster Trucks</td>\n",
       "      <td>Paramount Pictures / Paramount Animation / Nic...</td>\n",
       "      <td>Chris Wedge (director); Derek Connolly (screen...</td>\n",
       "      <td>[7][8]</td>\n",
       "      <td>NaN</td>\n",
       "    </tr>\n",
       "    <tr>\n",
       "      <th>4</th>\n",
       "      <td>J A N U A R Y</td>\n",
       "      <td>13</td>\n",
       "      <td>The Bye Bye Man</td>\n",
       "      <td>STX Entertainment / Intrepid Pictures</td>\n",
       "      <td>Stacy Title (director); Jonathan Penner (scree...</td>\n",
       "      <td>[9]</td>\n",
       "      <td>NaN</td>\n",
       "    </tr>\n",
       "    <tr>\n",
       "      <th>...</th>\n",
       "      <td>...</td>\n",
       "      <td>...</td>\n",
       "      <td>...</td>\n",
       "      <td>...</td>\n",
       "      <td>...</td>\n",
       "      <td>...</td>\n",
       "      <td>...</td>\n",
       "    </tr>\n",
       "    <tr>\n",
       "      <th>242</th>\n",
       "      <td>D E C E M B E R</td>\n",
       "      <td>22</td>\n",
       "      <td>Crooked House</td>\n",
       "      <td>Vertical Entertainment / Sony Pictures</td>\n",
       "      <td>Gilles Paquet-Brenner (director/screenplay); T...</td>\n",
       "      <td>NaN</td>\n",
       "      <td>[293]</td>\n",
       "    </tr>\n",
       "    <tr>\n",
       "      <th>243</th>\n",
       "      <td>D E C E M B E R</td>\n",
       "      <td>22</td>\n",
       "      <td>Hostiles</td>\n",
       "      <td>Entertainment Studios</td>\n",
       "      <td>Scott Cooper (director/screenplay); Christian ...</td>\n",
       "      <td>NaN</td>\n",
       "      <td>[294]</td>\n",
       "    </tr>\n",
       "    <tr>\n",
       "      <th>244</th>\n",
       "      <td>D E C E M B E R</td>\n",
       "      <td>25</td>\n",
       "      <td>All the Money in the World</td>\n",
       "      <td>TriStar Pictures</td>\n",
       "      <td>Ridley Scott (director); David Scarpa (screenp...</td>\n",
       "      <td>NaN</td>\n",
       "      <td>[295]</td>\n",
       "    </tr>\n",
       "    <tr>\n",
       "      <th>245</th>\n",
       "      <td>D E C E M B E R</td>\n",
       "      <td>25</td>\n",
       "      <td>Molly's Game</td>\n",
       "      <td>STX Entertainment</td>\n",
       "      <td>Aaron Sorkin (director/screenplay); Jessica Ch...</td>\n",
       "      <td>NaN</td>\n",
       "      <td>[296]</td>\n",
       "    </tr>\n",
       "    <tr>\n",
       "      <th>246</th>\n",
       "      <td>D E C E M B E R</td>\n",
       "      <td>25</td>\n",
       "      <td>Phantom Thread</td>\n",
       "      <td>Focus Features / Annapurna Pictures</td>\n",
       "      <td>Paul Thomas Anderson (director/screenplay); Da...</td>\n",
       "      <td>NaN</td>\n",
       "      <td>[297]</td>\n",
       "    </tr>\n",
       "  </tbody>\n",
       "</table>\n",
       "<p>247 rows × 7 columns</p>\n",
       "</div>"
      ],
      "text/plain": [
       "             Opening  Opening.1                       Title  \\\n",
       "0      J A N U A R Y          6      Underworld: Blood Wars   \n",
       "1      J A N U A R Y          6                     Arsenal   \n",
       "2      J A N U A R Y          6                  Between Us   \n",
       "3      J A N U A R Y         13              Monster Trucks   \n",
       "4      J A N U A R Y         13             The Bye Bye Man   \n",
       "..               ...        ...                         ...   \n",
       "242  D E C E M B E R         22               Crooked House   \n",
       "243  D E C E M B E R         22                    Hostiles   \n",
       "244  D E C E M B E R         25  All the Money in the World   \n",
       "245  D E C E M B E R         25                Molly's Game   \n",
       "246  D E C E M B E R         25              Phantom Thread   \n",
       "\n",
       "                                    Production company  \\\n",
       "0    Screen Gems / Lakeshore Entertainment / Sketch...   \n",
       "1                                   Lionsgate Premiere   \n",
       "2                               IFC Films / Nora Films   \n",
       "3    Paramount Pictures / Paramount Animation / Nic...   \n",
       "4                STX Entertainment / Intrepid Pictures   \n",
       "..                                                 ...   \n",
       "242             Vertical Entertainment / Sony Pictures   \n",
       "243                              Entertainment Studios   \n",
       "244                                   TriStar Pictures   \n",
       "245                                  STX Entertainment   \n",
       "246                Focus Features / Annapurna Pictures   \n",
       "\n",
       "                                         Cast and crew  \\\n",
       "0    Anna Foerster (director); Cory Goodman (screen...   \n",
       "1    Steven C. Miller (director); Jason Mosberg (sc...   \n",
       "2    Rafael Palacio Illingworth (director/screenpla...   \n",
       "3    Chris Wedge (director); Derek Connolly (screen...   \n",
       "4    Stacy Title (director); Jonathan Penner (scree...   \n",
       "..                                                 ...   \n",
       "242  Gilles Paquet-Brenner (director/screenplay); T...   \n",
       "243  Scott Cooper (director/screenplay); Christian ...   \n",
       "244  Ridley Scott (director); David Scarpa (screenp...   \n",
       "245  Aaron Sorkin (director/screenplay); Jessica Ch...   \n",
       "246  Paul Thomas Anderson (director/screenplay); Da...   \n",
       "\n",
       "    .mw-parser-output .tooltip-dotted{border-bottom:1px dotted;cursor:help}Ref.  \\\n",
       "0                                               [2][3]                            \n",
       "1                                               [4][5]                            \n",
       "2                                                  [6]                            \n",
       "3                                               [7][8]                            \n",
       "4                                                  [9]                            \n",
       "..                                                 ...                            \n",
       "242                                                NaN                            \n",
       "243                                                NaN                            \n",
       "244                                                NaN                            \n",
       "245                                                NaN                            \n",
       "246                                                NaN                            \n",
       "\n",
       "      Ref.  \n",
       "0      NaN  \n",
       "1      NaN  \n",
       "2      NaN  \n",
       "3      NaN  \n",
       "4      NaN  \n",
       "..     ...  \n",
       "242  [293]  \n",
       "243  [294]  \n",
       "244  [295]  \n",
       "245  [296]  \n",
       "246  [297]  \n",
       "\n",
       "[247 rows x 7 columns]"
      ]
     },
     "execution_count": 10,
     "metadata": {},
     "output_type": "execute_result"
    }
   ],
   "source": [
    "df"
   ]
  },
  {
   "cell_type": "code",
   "execution_count": 11,
   "id": "04ddeb66-e4ee-414f-bd7c-2f62404bcc54",
   "metadata": {},
   "outputs": [],
   "source": [
    "df_2017 = df[['Title','Cast and crew']]"
   ]
  },
  {
   "cell_type": "code",
   "execution_count": 12,
   "id": "817b85b4-9d63-4d01-8314-4b753e4e2075",
   "metadata": {},
   "outputs": [
    {
     "data": {
      "text/html": [
       "<div>\n",
       "<style scoped>\n",
       "    .dataframe tbody tr th:only-of-type {\n",
       "        vertical-align: middle;\n",
       "    }\n",
       "\n",
       "    .dataframe tbody tr th {\n",
       "        vertical-align: top;\n",
       "    }\n",
       "\n",
       "    .dataframe thead th {\n",
       "        text-align: right;\n",
       "    }\n",
       "</style>\n",
       "<table border=\"1\" class=\"dataframe\">\n",
       "  <thead>\n",
       "    <tr style=\"text-align: right;\">\n",
       "      <th></th>\n",
       "      <th>Title</th>\n",
       "      <th>Cast and crew</th>\n",
       "    </tr>\n",
       "  </thead>\n",
       "  <tbody>\n",
       "    <tr>\n",
       "      <th>0</th>\n",
       "      <td>Underworld: Blood Wars</td>\n",
       "      <td>Anna Foerster (director); Cory Goodman (screen...</td>\n",
       "    </tr>\n",
       "    <tr>\n",
       "      <th>1</th>\n",
       "      <td>Arsenal</td>\n",
       "      <td>Steven C. Miller (director); Jason Mosberg (sc...</td>\n",
       "    </tr>\n",
       "    <tr>\n",
       "      <th>2</th>\n",
       "      <td>Between Us</td>\n",
       "      <td>Rafael Palacio Illingworth (director/screenpla...</td>\n",
       "    </tr>\n",
       "    <tr>\n",
       "      <th>3</th>\n",
       "      <td>Monster Trucks</td>\n",
       "      <td>Chris Wedge (director); Derek Connolly (screen...</td>\n",
       "    </tr>\n",
       "    <tr>\n",
       "      <th>4</th>\n",
       "      <td>The Bye Bye Man</td>\n",
       "      <td>Stacy Title (director); Jonathan Penner (scree...</td>\n",
       "    </tr>\n",
       "    <tr>\n",
       "      <th>...</th>\n",
       "      <td>...</td>\n",
       "      <td>...</td>\n",
       "    </tr>\n",
       "    <tr>\n",
       "      <th>242</th>\n",
       "      <td>Crooked House</td>\n",
       "      <td>Gilles Paquet-Brenner (director/screenplay); T...</td>\n",
       "    </tr>\n",
       "    <tr>\n",
       "      <th>243</th>\n",
       "      <td>Hostiles</td>\n",
       "      <td>Scott Cooper (director/screenplay); Christian ...</td>\n",
       "    </tr>\n",
       "    <tr>\n",
       "      <th>244</th>\n",
       "      <td>All the Money in the World</td>\n",
       "      <td>Ridley Scott (director); David Scarpa (screenp...</td>\n",
       "    </tr>\n",
       "    <tr>\n",
       "      <th>245</th>\n",
       "      <td>Molly's Game</td>\n",
       "      <td>Aaron Sorkin (director/screenplay); Jessica Ch...</td>\n",
       "    </tr>\n",
       "    <tr>\n",
       "      <th>246</th>\n",
       "      <td>Phantom Thread</td>\n",
       "      <td>Paul Thomas Anderson (director/screenplay); Da...</td>\n",
       "    </tr>\n",
       "  </tbody>\n",
       "</table>\n",
       "<p>247 rows × 2 columns</p>\n",
       "</div>"
      ],
      "text/plain": [
       "                          Title  \\\n",
       "0        Underworld: Blood Wars   \n",
       "1                       Arsenal   \n",
       "2                    Between Us   \n",
       "3                Monster Trucks   \n",
       "4               The Bye Bye Man   \n",
       "..                          ...   \n",
       "242               Crooked House   \n",
       "243                    Hostiles   \n",
       "244  All the Money in the World   \n",
       "245                Molly's Game   \n",
       "246              Phantom Thread   \n",
       "\n",
       "                                         Cast and crew  \n",
       "0    Anna Foerster (director); Cory Goodman (screen...  \n",
       "1    Steven C. Miller (director); Jason Mosberg (sc...  \n",
       "2    Rafael Palacio Illingworth (director/screenpla...  \n",
       "3    Chris Wedge (director); Derek Connolly (screen...  \n",
       "4    Stacy Title (director); Jonathan Penner (scree...  \n",
       "..                                                 ...  \n",
       "242  Gilles Paquet-Brenner (director/screenplay); T...  \n",
       "243  Scott Cooper (director/screenplay); Christian ...  \n",
       "244  Ridley Scott (director); David Scarpa (screenp...  \n",
       "245  Aaron Sorkin (director/screenplay); Jessica Ch...  \n",
       "246  Paul Thomas Anderson (director/screenplay); Da...  \n",
       "\n",
       "[247 rows x 2 columns]"
      ]
     },
     "execution_count": 12,
     "metadata": {},
     "output_type": "execute_result"
    }
   ],
   "source": [
    "df_2017"
   ]
  },
  {
   "cell_type": "code",
   "execution_count": 13,
   "id": "ad385104-0b2c-46ec-b572-63ee17b08526",
   "metadata": {},
   "outputs": [],
   "source": [
    "from tmdbv3api import TMDb\n",
    "import json\n",
    "import requests\n",
    "tmdb = TMDb()\n",
    "tmdb.api_key = 'ff3132c29c92e21e14539982f56e664a'"
   ]
  },
  {
   "cell_type": "code",
   "execution_count": 14,
   "id": "a5b66cb0-6e7c-4466-adf4-c3001cd91470",
   "metadata": {},
   "outputs": [],
   "source": [
    "from tmdbv3api import Movie\n",
    "tmdb_movie = Movie() \n",
    "def get_genre(x):\n",
    "    genres = []\n",
    "    result = tmdb_movie.search(x)\n",
    "    if not result:\n",
    "      return np.NaN\n",
    "    else:\n",
    "      movie_id = result[0].id\n",
    "      response = requests.get('https://api.themoviedb.org/3/movie/{}?api_key={}'.format(movie_id,tmdb.api_key))\n",
    "      data_json = response.json()\n",
    "      if data_json['genres']:\n",
    "          genre_str = \" \" \n",
    "          for i in range(0,len(data_json['genres'])):\n",
    "              genres.append(data_json['genres'][i]['name'])\n",
    "          return genre_str.join(genres)\n",
    "      else:\n",
    "          return np.NaN"
   ]
  },
  {
   "cell_type": "code",
   "execution_count": null,
   "id": "90fd3bcb-9bc9-42b8-b0bc-e3235772c200",
   "metadata": {},
   "outputs": [],
   "source": [
    "df_2017['genres'] = df_2017['Title'].map(lambda x: get_genre(str(x)))"
   ]
  },
  {
   "cell_type": "code",
   "execution_count": null,
   "id": "24091d97-4c66-4b71-a256-f81f17d7e486",
   "metadata": {},
   "outputs": [],
   "source": [
    "df_2017"
   ]
  },
  {
   "cell_type": "code",
   "execution_count": null,
   "id": "c06c3cfc-94c0-4cc8-84e4-269a53b4e95e",
   "metadata": {},
   "outputs": [],
   "source": [
    "def get_director(x):\n",
    "    if \" (director)\" in x:\n",
    "        return x.split(\" (director)\")[0]\n",
    "    elif \" (directors)\" in x:\n",
    "        return x.split(\" (directors)\")[0]\n",
    "    else:\n",
    "        return x.split(\" (director/screenplay)\")[0]"
   ]
  },
  {
   "cell_type": "code",
   "execution_count": null,
   "id": "747e9e4f-a1a4-426a-a30f-bdd8681fe0ad",
   "metadata": {},
   "outputs": [],
   "source": [
    "df_2023['director_name'] = df_2023['Cast and crew'].map(lambda x: get_director(str(x)))"
   ]
  },
  {
   "cell_type": "code",
   "execution_count": null,
   "id": "28bbd523-cdc8-43d7-8f2d-855c428a04c4",
   "metadata": {},
   "outputs": [],
   "source": [
    "def get_actor1(x):\n",
    "    return ((x.split(\"screenplay); \")[-1]).split(\", \")[0])"
   ]
  },
  {
   "cell_type": "code",
   "execution_count": null,
   "id": "302e3879-e560-4ae1-a283-8c55c163cab8",
   "metadata": {},
   "outputs": [],
   "source": [
    "df_2017['actor_1_name'] = df_2017['Cast and crew'].map(lambda x: get_actor1(str(x)))"
   ]
  },
  {
   "cell_type": "code",
   "execution_count": null,
   "id": "15f08353-3fde-4bb5-ad3a-67e1e9d3c327",
   "metadata": {},
   "outputs": [],
   "source": [
    "def get_actor2(x):\n",
    "    if len((x.split(\"screenplay); \")[-1]).split(\", \")) < 2:\n",
    "        return np.NaN\n",
    "    else:\n",
    "        return ((x.split(\"screenplay); \")[-1]).split(\", \")[1])"
   ]
  },
  {
   "cell_type": "code",
   "execution_count": null,
   "id": "6963bc6d-1f7c-488d-9b0b-f71c1e9bffcc",
   "metadata": {},
   "outputs": [],
   "source": [
    "df_2017['actor_2_name'] = df_2017['Cast and crew'].map(lambda x: get_actor2(str(x)))"
   ]
  },
  {
   "cell_type": "code",
   "execution_count": null,
   "id": "e89afaf9-15d8-41ec-944e-7b61bcb768b8",
   "metadata": {},
   "outputs": [],
   "source": [
    "def get_actor3(x):\n",
    "    if len((x.split(\"screenplay); \")[-1]).split(\", \")) < 3:\n",
    "        return np.NaN\n",
    "    else:\n",
    "        return ((x.split(\"screenplay); \")[-1]).split(\", \")[2])"
   ]
  },
  {
   "cell_type": "code",
   "execution_count": null,
   "id": "33afb02b-688b-42b4-b338-3f5fd9680aec",
   "metadata": {},
   "outputs": [],
   "source": [
    "df_2017['actor_3_name'] = df_2017['Cast and crew'].map(lambda x: get_actor3(str(x)))"
   ]
  },
  {
   "cell_type": "code",
   "execution_count": null,
   "id": "cf1fcb34-7cc6-4879-99e7-1dd69c0def51",
   "metadata": {},
   "outputs": [],
   "source": [
    "df_2017"
   ]
  },
  {
   "cell_type": "code",
   "execution_count": null,
   "id": "514713a0-7f8a-4046-9616-afb49f3be2a8",
   "metadata": {},
   "outputs": [],
   "source": [
    "df_2017 = df_2017.rename(columns={'Title':'movie_title'})"
   ]
  },
  {
   "cell_type": "code",
   "execution_count": null,
   "id": "65de42f6-c6bc-401f-a83a-121284abd31f",
   "metadata": {},
   "outputs": [],
   "source": [
    "new_df17 = df_2017.loc[:,['director_name','actor_1_name','actor_2_name','actor_3_name','genres','movie_title']]"
   ]
  },
  {
   "cell_type": "code",
   "execution_count": null,
   "id": "a1c9e5f1-484f-491f-8192-28ad1f51816e",
   "metadata": {},
   "outputs": [],
   "source": [
    "new_df17"
   ]
  },
  {
   "cell_type": "code",
   "execution_count": null,
   "id": "259ddb7e-aa8b-42c6-9f43-18aaf74b9a0d",
   "metadata": {},
   "outputs": [],
   "source": [
    "new_df17['comb'] = new_df17['actor_1_name'] + ' ' + new_df17['actor_2_name'] + ' '+ new_df17['actor_3_name'] + ' '+ new_df17['director_name'] +' ' + new_df17['genres']"
   ]
  },
  {
   "cell_type": "code",
   "execution_count": null,
   "id": "b0e64a6b-3755-4d61-8acb-8d8cb9e7147f",
   "metadata": {},
   "outputs": [],
   "source": [
    "new_df17.isna().sum()"
   ]
  },
  {
   "cell_type": "code",
   "execution_count": null,
   "id": "24758abb-0313-4447-a755-49a3d78b53f5",
   "metadata": {},
   "outputs": [],
   "source": [
    "new_df17 = new_df17.dropna(how='any')"
   ]
  },
  {
   "cell_type": "code",
   "execution_count": null,
   "id": "b4b87a82-28a0-4f20-80f3-576c0f906fc9",
   "metadata": {},
   "outputs": [],
   "source": [
    "new_df17.isna().sum()"
   ]
  },
  {
   "cell_type": "code",
   "execution_count": null,
   "id": "5e341982-f219-43ad-93cb-72ced1f6a3a7",
   "metadata": {},
   "outputs": [],
   "source": [
    "new_df17['movie_title'] = new_df17['movie_title'].str.lower()"
   ]
  },
  {
   "cell_type": "code",
   "execution_count": null,
   "id": "f4ee6f44-07d7-4f75-b2c3-249f24d2d402",
   "metadata": {},
   "outputs": [],
   "source": [
    "new_df17"
   ]
  },
  {
   "cell_type": "code",
   "execution_count": null,
   "id": "4a2e2caf-a7f5-43ac-9c9b-dcd4423b0a09",
   "metadata": {},
   "outputs": [],
   "source": [
    "old_df = pd.read_csv('datasets/final_data.csv')"
   ]
  },
  {
   "cell_type": "code",
   "execution_count": null,
   "id": "a6e659ae-e5db-4718-afcd-f497fccaad74",
   "metadata": {},
   "outputs": [],
   "source": [
    "old_df"
   ]
  },
  {
   "cell_type": "code",
   "execution_count": null,
   "id": "71c92395-8431-41ba-aec5-30411d5bdbd7",
   "metadata": {},
   "outputs": [],
   "source": [
    "final_df = old_df.append(new_df23,ignore_index=True)"
   ]
  },
  {
   "cell_type": "code",
   "execution_count": null,
   "id": "351a1981-4bbb-4440-92dd-1bc3d2622dad",
   "metadata": {},
   "outputs": [],
   "source": [
    "final_df"
   ]
  },
  {
   "cell_type": "code",
   "execution_count": null,
   "id": "4b7565b2-62ff-4e9a-a74d-7d6074d5f8b8",
   "metadata": {},
   "outputs": [],
   "source": [
    "final_df.to_csv('main_data.csv',index=False)"
   ]
  }
 ],
 "metadata": {
  "kernelspec": {
   "display_name": "Python 3 (ipykernel)",
   "language": "python",
   "name": "python3"
  },
  "language_info": {
   "codemirror_mode": {
    "name": "ipython",
    "version": 3
   },
   "file_extension": ".py",
   "mimetype": "text/x-python",
   "name": "python",
   "nbconvert_exporter": "python",
   "pygments_lexer": "ipython3",
   "version": "3.9.12"
  }
 },
 "nbformat": 4,
 "nbformat_minor": 5
}
